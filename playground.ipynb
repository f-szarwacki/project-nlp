{
 "cells": [
  {
   "cell_type": "code",
   "execution_count": 1,
   "metadata": {},
   "outputs": [
    {
     "name": "stderr",
     "output_type": "stream",
     "text": [
      "/home/fszarwacki/Documents/nlp/nlp-course/lib/python3.10/site-packages/tqdm/auto.py:22: TqdmWarning: IProgress not found. Please update jupyter and ipywidgets. See https://ipywidgets.readthedocs.io/en/stable/user_install.html\n",
      "  from .autonotebook import tqdm as notebook_tqdm\n",
      "Downloading (…)okenizer_config.json: 100%|██████████| 252/252 [00:00<00:00, 429kB/s]\n",
      "Downloading (…)lve/main/config.json: 100%|██████████| 689/689 [00:00<00:00, 1.11MB/s]\n",
      "Downloading (…)solve/main/vocab.txt: 100%|██████████| 232k/232k [00:00<00:00, 1.03MB/s]\n",
      "Downloading (…)cial_tokens_map.json: 100%|██████████| 112/112 [00:00<00:00, 687kB/s]\n",
      "Downloading pytorch_model.bin: 100%|██████████| 438M/438M [02:20<00:00, 3.11MB/s] \n"
     ]
    }
   ],
   "source": [
    "from simcse import SimCSE\n",
    "model = SimCSE(\"princeton-nlp/sup-simcse-bert-base-uncased\")"
   ]
  },
  {
   "cell_type": "code",
   "execution_count": 17,
   "metadata": {},
   "outputs": [
    {
     "name": "stderr",
     "output_type": "stream",
     "text": [
      "100%|██████████| 1/1 [00:00<00:00, 23.09it/s]\n",
      "100%|██████████| 1/1 [00:00<00:00, 18.72it/s]\n",
      "100%|██████████| 1/1 [00:00<00:00, 16.29it/s]\n"
     ]
    }
   ],
   "source": [
    "embeddings = model.encode(\"A woman is reading.\")\n",
    "\n",
    "sentences_a = ['A woman is reading.', 'A man is playing a guitar.']\n",
    "sentences_b = ['He plays guitar.', 'A woman is making a photo.', 'He plays the piano.', 'A man is playing a guitar.']\n",
    "similarities = model.similarity(sentences_a, sentences_b)"
   ]
  },
  {
   "cell_type": "code",
   "execution_count": 18,
   "metadata": {},
   "outputs": [
    {
     "data": {
      "text/plain": [
       "array([[ 0.01262083,  0.34469503, -0.03727902,  0.06564274],\n",
       "       [ 0.89384234,  0.04842846,  0.4967801 ,  1.0000004 ]],\n",
       "      dtype=float32)"
      ]
     },
     "execution_count": 18,
     "metadata": {},
     "output_type": "execute_result"
    }
   ],
   "source": [
    "similarities"
   ]
  },
  {
   "cell_type": "code",
   "execution_count": 13,
   "metadata": {},
   "outputs": [
    {
     "name": "stderr",
     "output_type": "stream",
     "text": [
      "06/13/2023 17:49:32 - WARNING - simcse.tool -   Fail to import faiss. If you want to use faiss, install faiss through PyPI. Now the program continues with brute force search.\n",
      "06/13/2023 17:49:32 - INFO - simcse.tool -   Encoding embeddings for sentences...\n",
      "100%|██████████| 1/1 [00:00<00:00, 15.46it/s]\n",
      "06/13/2023 17:49:32 - INFO - simcse.tool -   Building index...\n",
      "06/13/2023 17:49:32 - INFO - simcse.tool -   Finished\n",
      "100%|██████████| 1/1 [00:00<00:00, 24.17it/s]\n"
     ]
    }
   ],
   "source": [
    "sentences = ['A woman is reading.', 'A man is playing a guitar.', \"She is dancing.\"]\n",
    "model.build_index(sentences)\n",
    "results = model.search(\"He plays the ukulele.\")"
   ]
  },
  {
   "cell_type": "code",
   "execution_count": 14,
   "metadata": {},
   "outputs": [
    {
     "data": {
      "text/plain": [
       "[]"
      ]
     },
     "execution_count": 14,
     "metadata": {},
     "output_type": "execute_result"
    }
   ],
   "source": [
    "results"
   ]
  },
  {
   "cell_type": "code",
   "execution_count": null,
   "metadata": {},
   "outputs": [],
   "source": []
  }
 ],
 "metadata": {
  "kernelspec": {
   "display_name": "nlp-course",
   "language": "python",
   "name": "python3"
  },
  "language_info": {
   "codemirror_mode": {
    "name": "ipython",
    "version": 3
   },
   "file_extension": ".py",
   "mimetype": "text/x-python",
   "name": "python",
   "nbconvert_exporter": "python",
   "pygments_lexer": "ipython3",
   "version": "3.10.6"
  },
  "orig_nbformat": 4
 },
 "nbformat": 4,
 "nbformat_minor": 2
}
